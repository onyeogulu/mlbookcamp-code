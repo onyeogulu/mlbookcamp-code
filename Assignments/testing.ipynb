{
 "cells": [
  {
   "cell_type": "code",
   "execution_count": 5,
   "metadata": {},
   "outputs": [],
   "source": [
    "import pandas as pd\n",
    "import numpy as np\n",
    "\n",
    "from sklearn.feature_extraction import DictVectorizer\n",
    "from sklearn.linear_model import LogisticRegression\n",
    "\n",
    "from sklearn.model_selection import train_test_split\n",
    "from sklearn.metrics import roc_auc_score\n",
    "\n",
    "import pickle \n",
    "import json\n",
    "import requests"
   ]
  },
  {
   "cell_type": "code",
   "execution_count": 6,
   "metadata": {},
   "outputs": [],
   "source": [
    "df = pd.read_csv(\"/home/onyeogulu/www/node/mlbookcamp-code/AER_credit_card_data.csv\")"
   ]
  },
  {
   "cell_type": "code",
   "execution_count": 7,
   "metadata": {},
   "outputs": [],
   "source": [
    "df_train, df_test = train_test_split(df, test_size=0.2, random_state=1)"
   ]
  },
  {
   "cell_type": "code",
   "execution_count": 8,
   "metadata": {},
   "outputs": [],
   "source": [
    "y_train = df_train.card.values\n",
    "y_test = df_test.card.values\n",
    "\n",
    "del df_train['card']\n",
    "del df_test['card']"
   ]
  },
  {
   "cell_type": "code",
   "execution_count": 26,
   "metadata": {},
   "outputs": [],
   "source": [
    "url = 'http://localhost:9696/'"
   ]
  },
  {
   "cell_type": "code",
   "execution_count": 31,
   "metadata": {},
   "outputs": [
    {
     "name": "stdout",
     "output_type": "stream",
     "text": [
      "{'card': False, 'card_probability': 0.18948898745040224}\n",
      "{'card': True, 'card_probability': 1.0}\n",
      "{'card': True, 'card_probability': 1.0}\n",
      "{'card': True, 'card_probability': 1.0}\n",
      "{'card': True, 'card_probability': 1.0}\n",
      "{'card': True, 'card_probability': 0.9999999361323643}\n",
      "{'card': True, 'card_probability': 1.0}\n",
      "{'card': True, 'card_probability': 1.0}\n",
      "{'card': True, 'card_probability': 1.0}\n",
      "{'card': True, 'card_probability': 1.0}\n",
      "{'card': True, 'card_probability': 1.0}\n",
      "{'card': True, 'card_probability': 1.0}\n",
      "{'card': True, 'card_probability': 1.0}\n",
      "{'card': True, 'card_probability': 0.9999999999944689}\n",
      "{'card': True, 'card_probability': 1.0}\n",
      "{'card': True, 'card_probability': 1.0}\n",
      "{'card': False, 'card_probability': 0.06745313359742444}\n",
      "{'card': False, 'card_probability': 0.054106030107927236}\n",
      "{'card': True, 'card_probability': 1.0}\n",
      "{'card': True, 'card_probability': 1.0}\n",
      "{'card': True, 'card_probability': 1.0}\n",
      "{'card': False, 'card_probability': 4.740420904141846e-05}\n",
      "{'card': False, 'card_probability': 0.12203264919882333}\n",
      "{'card': True, 'card_probability': 1.0}\n",
      "{'card': False, 'card_probability': 0.08026659978759879}\n",
      "{'card': True, 'card_probability': 1.0}\n",
      "{'card': True, 'card_probability': 1.0}\n",
      "{'card': True, 'card_probability': 1.0}\n",
      "{'card': True, 'card_probability': 1.0}\n",
      "{'card': True, 'card_probability': 1.0}\n",
      "{'card': True, 'card_probability': 1.0}\n",
      "{'card': True, 'card_probability': 1.0}\n",
      "{'card': True, 'card_probability': 1.0}\n",
      "{'card': True, 'card_probability': 1.0}\n",
      "{'card': True, 'card_probability': 1.0}\n",
      "{'card': True, 'card_probability': 1.0}\n",
      "{'card': True, 'card_probability': 0.9981926675858025}\n",
      "{'card': True, 'card_probability': 1.0}\n",
      "{'card': False, 'card_probability': 0.0006703260951798143}\n",
      "{'card': True, 'card_probability': 1.0}\n",
      "{'card': False, 'card_probability': 0.19863626609718696}\n",
      "{'card': False, 'card_probability': 0.018538913397109818}\n",
      "{'card': True, 'card_probability': 1.0}\n",
      "{'card': True, 'card_probability': 1.0}\n",
      "{'card': True, 'card_probability': 1.0}\n",
      "{'card': True, 'card_probability': 1.0}\n",
      "{'card': True, 'card_probability': 1.0}\n",
      "{'card': True, 'card_probability': 1.0}\n",
      "{'card': True, 'card_probability': 1.0}\n",
      "{'card': True, 'card_probability': 1.0}\n",
      "Done!\n"
     ]
    }
   ],
   "source": [
    "for i in range(50):\n",
    "    df = df_test.iloc[i, :].to_json()\n",
    "    df = json.loads(df)\n",
    "    #print(df)\n",
    "\n",
    "    response = requests.post(url, json=df).json()\n",
    "    print(response)\n",
    "print(\"Done!\")"
   ]
  },
  {
   "cell_type": "code",
   "execution_count": 17,
   "metadata": {},
   "outputs": [
    {
     "data": {
      "text/plain": [
       "{'reports': 0,\n",
       " 'age': 46.33333,\n",
       " 'income': 1.6,\n",
       " 'share': 0.04630688,\n",
       " 'expenditure': 61.7425,\n",
       " 'owner': 'no',\n",
       " 'selfemp': 'no',\n",
       " 'dependents': 0,\n",
       " 'months': 162,\n",
       " 'majorcards': 1,\n",
       " 'active': 11}"
      ]
     },
     "execution_count": 17,
     "metadata": {},
     "output_type": "execute_result"
    }
   ],
   "source": []
  },
  {
   "cell_type": "code",
   "execution_count": 18,
   "metadata": {},
   "outputs": [],
   "source": []
  },
  {
   "cell_type": "code",
   "execution_count": 22,
   "metadata": {},
   "outputs": [
    {
     "data": {
      "text/plain": [
       "{'card': True, 'card_probability': 1.0}"
      ]
     },
     "execution_count": 22,
     "metadata": {},
     "output_type": "execute_result"
    }
   ],
   "source": []
  }
 ],
 "metadata": {
  "kernelspec": {
   "display_name": "Python 3.9.12 ('base')",
   "language": "python",
   "name": "python3"
  },
  "language_info": {
   "codemirror_mode": {
    "name": "ipython",
    "version": 3
   },
   "file_extension": ".py",
   "mimetype": "text/x-python",
   "name": "python",
   "nbconvert_exporter": "python",
   "pygments_lexer": "ipython3",
   "version": "3.9.12"
  },
  "orig_nbformat": 4,
  "vscode": {
   "interpreter": {
    "hash": "525486eb76e39475e06044b069bd63d3966bcd65661be625a40160f9a8cdc114"
   }
  }
 },
 "nbformat": 4,
 "nbformat_minor": 2
}
